{
 "cells": [
  {
   "cell_type": "markdown",
   "id": "ee27267e-bad6-479a-bd7f-dc484bbd6670",
   "metadata": {},
   "source": [
    "# Data Understanding & Preparation"
   ]
  },
  {
   "cell_type": "code",
   "execution_count": 6,
   "id": "51383232-193d-4de8-b62b-612be47f3f6b",
   "metadata": {},
   "outputs": [],
   "source": [
    "# Import your libraries\n",
    "\n",
    "import pandas as pd\n",
    "import numpy as np\n",
    "import matplotlib.pyplot as plt\n",
    "import seaborn as sns"
   ]
  },
  {
   "cell_type": "code",
   "execution_count": 8,
   "id": "52dad1f7",
   "metadata": {},
   "outputs": [],
   "source": [
    "# Load data from different sources\n",
    "data1 = pd.read_csv('C:/Users/viole/Downloads/data analysis and hypothesis testing/customer_churn - 1.csv')\n",
    "data2 = pd.read_csv('C:/Users/viole/Downloads/data analysis and hypothesis testing/customer_churn - 2.csv')\n",
    "data3 = pd.read_csv('C:/Users/viole/Downloads/data analysis and hypothesis testing/customer_churn - 3.csv')\n",
    "data4 = pd.read_csv('C:/Users/viole/Downloads/data analysis and hypothesis testing/customer_churn - 4.csv')"
   ]
  },
  {
   "cell_type": "code",
   "execution_count": 9,
   "id": "6342f920",
   "metadata": {},
   "outputs": [],
   "source": [
    "# Concatenate data into a single DataFrame\n",
    "concatenated_data = pd.concat([data1, data2, data3, data4], ignore_index=True)"
   ]
  },
  {
   "cell_type": "code",
   "execution_count": 10,
   "id": "446f794e",
   "metadata": {},
   "outputs": [
    {
     "name": "stdout",
     "output_type": "stream",
     "text": [
      "              Names  Age  Total_Purchase  Account_Manager  Years  Num_Sites  \\\n",
      "0  Cameron Williams   42        11066.80                0   7.22          8   \n",
      "1     Kevin Mueller   41        11916.22                0   6.50         11   \n",
      "2       Eric Lozano   38        12884.75                0   6.67         12   \n",
      "3     Phillip White   42         8010.76                0   6.71         10   \n",
      "4    Cynthia Norton   37         9191.58                0   5.56          9   \n",
      "\n",
      "      Onboard_date                                           Location  \\\n",
      "0   8/30/2013 7:00      10265 Elizabeth Mission Barkerburgh, AK 89518   \n",
      "1   8/13/2013 0:38  6157 Frank Gardens Suite 019 Carloshaven, RI 1...   \n",
      "2   6/29/2016 6:20             1331 Keith Court Alyssahaven, DE 90114   \n",
      "3  4/22/2014 12:43       13120 Daniel Mount Angelabury, WY 30645-4695   \n",
      "4  1/19/2016 15:31                765 Tricia Row Karenshire, MH 71730   \n",
      "\n",
      "                       Company  Churn  \n",
      "0                   Harvey LLC      1  \n",
      "1                   Wilson PLC      1  \n",
      "2  Miller, Johnson and Wallace      1  \n",
      "3                    Smith Inc      1  \n",
      "4                   Love-Jones      1  \n"
     ]
    }
   ],
   "source": [
    "# Display the concatenated DataFrame\n",
    "print(concatenated_data.head())"
   ]
  },
  {
   "cell_type": "code",
   "execution_count": 11,
   "id": "f8a43f82",
   "metadata": {},
   "outputs": [
    {
     "name": "stdout",
     "output_type": "stream",
     "text": [
      "              Age  Total_Purchase  Account_Manager       Years   Num_Sites  \\\n",
      "count  900.000000      900.000000       900.000000  900.000000  900.000000   \n",
      "mean    41.816667    10062.824033         0.481111    5.273156    8.587778   \n",
      "std      6.127560     2408.644532         0.499921    1.274449    1.764836   \n",
      "min     22.000000      100.000000         0.000000    1.000000    3.000000   \n",
      "25%     38.000000     8497.122500         0.000000    4.450000    7.000000   \n",
      "50%     42.000000    10045.870000         0.000000    5.215000    8.000000   \n",
      "75%     46.000000    11760.105000         1.000000    6.110000   10.000000   \n",
      "max     65.000000    18026.010000         1.000000    9.150000   14.000000   \n",
      "\n",
      "            Churn  \n",
      "count  900.000000  \n",
      "mean     0.166667  \n",
      "std      0.372885  \n",
      "min      0.000000  \n",
      "25%      0.000000  \n",
      "50%      0.000000  \n",
      "75%      0.000000  \n",
      "max      1.000000  \n"
     ]
    }
   ],
   "source": [
    "# Get summary statistics\n",
    "print(concatenated_data.describe())\n",
    "\n",
    "# # Check data types and missing values\n",
    "# print(data.info())"
   ]
  },
  {
   "cell_type": "code",
   "execution_count": 13,
   "id": "1bdd5ea9",
   "metadata": {},
   "outputs": [
    {
     "name": "stdout",
     "output_type": "stream",
     "text": [
      "<class 'pandas.core.frame.DataFrame'>\n",
      "RangeIndex: 900 entries, 0 to 899\n",
      "Data columns (total 10 columns):\n",
      " #   Column           Non-Null Count  Dtype  \n",
      "---  ------           --------------  -----  \n",
      " 0   Names            900 non-null    object \n",
      " 1   Age              900 non-null    int64  \n",
      " 2   Total_Purchase   900 non-null    float64\n",
      " 3   Account_Manager  900 non-null    int64  \n",
      " 4   Years            900 non-null    float64\n",
      " 5   Num_Sites        900 non-null    int64  \n",
      " 6   Onboard_date     900 non-null    object \n",
      " 7   Location         900 non-null    object \n",
      " 8   Company          900 non-null    object \n",
      " 9   Churn            900 non-null    int64  \n",
      "dtypes: float64(2), int64(4), object(4)\n",
      "memory usage: 70.4+ KB\n",
      "None\n"
     ]
    }
   ],
   "source": [
    "# # Check data types and missing values\n",
    "print(concatenated_data.info())"
   ]
  },
  {
   "cell_type": "code",
   "execution_count": null,
   "id": "367b9515",
   "metadata": {},
   "outputs": [],
   "source": []
  }
 ],
 "metadata": {
  "kernelspec": {
   "display_name": "Python 3 (ipykernel)",
   "language": "python",
   "name": "python3"
  },
  "language_info": {
   "codemirror_mode": {
    "name": "ipython",
    "version": 3
   },
   "file_extension": ".py",
   "mimetype": "text/x-python",
   "name": "python",
   "nbconvert_exporter": "python",
   "pygments_lexer": "ipython3",
   "version": "3.9.13"
  }
 },
 "nbformat": 4,
 "nbformat_minor": 5
}
