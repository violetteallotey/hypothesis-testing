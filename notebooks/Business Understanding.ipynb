{
 "cells": [
  {
   "cell_type": "markdown",
   "id": "6c603b24-70fe-4b65-a25c-df989ea2d4a1",
   "metadata": {},
   "source": [
    "# Business Understanding"
   ]
  },
  {
   "cell_type": "markdown",
   "id": "0085da45-9fa9-42ff-8cc5-e6bf7111a587",
   "metadata": {},
   "source": [
    "\n",
    "\n",
    "### Any good project starts with a deep understanding of the customer’s needs. Data analytics projects are no exception and CRISP-DM recognizes this.\n",
    "\n",
    "####  The Business Understanding phase focuses on understanding the objectives and requirements of the project. Aside from the third task, the three other tasks in this phase are foundational project management activities that are universal to most projects:\n",
    "\n",
    "#### 1. Determine business objectives: \n",
    "You should first “thoroughly understand, from a business perspective, what the customer really wants to accomplish.” (CRISP-DM Guide) and then define business success criteria.\n",
    "\n",
    "#### 2. Assess situation: \n",
    "Determine resources availability, project requirements, assess risks and contingencies, and conduct a cost-benefit analysis.\n",
    "\n",
    "#### 3. Determine data mining goals: \n",
    "In addition to defining the business objectives, you should also define what success looks like from a technical data mining perspective.\n",
    "\n",
    "#### 4. Produce project plan: \n",
    "Select technologies and tools and define detailed plans for each project phase.\n",
    "\n",
    "While many teams hurry through this phase, establishing a strong business understanding is like building the foundation of a house – absolutely essential.\n",
    "\n",
    "\n",
    "\n",
    "TASK\n",
    "Your task for this week is to have a clear understanding of the project, derive hypothesis and ask questions that will help you achieve the objectives of the project. \n",
    "\n",
    "- Title and description of project\n",
    "\n",
    "- Clearly stated hypothesis\n",
    "\n",
    "- At least 5 questions\n",
    "\n",
    "\n",
    "\n",
    "Reference: What is CRISP DM?"
   ]
  },
  {
   "cell_type": "code",
   "execution_count": null,
   "id": "0a74a0f6-790b-4a4a-ad98-ecbfa5b5b8e0",
   "metadata": {},
   "outputs": [],
   "source": []
  }
 ],
 "metadata": {
  "kernelspec": {
   "display_name": "Python 3 (ipykernel)",
   "language": "python",
   "name": "python3"
  },
  "language_info": {
   "codemirror_mode": {
    "name": "ipython",
    "version": 3
   },
   "file_extension": ".py",
   "mimetype": "text/x-python",
   "name": "python",
   "nbconvert_exporter": "python",
   "pygments_lexer": "ipython3",
   "version": "3.11.2"
  }
 },
 "nbformat": 4,
 "nbformat_minor": 5
}
